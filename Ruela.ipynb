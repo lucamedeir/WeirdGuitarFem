{
 "cells": [
  {
   "cell_type": "code",
   "execution_count": null,
   "id": "b39e091d-4785-4b68-adab-19c1f4437861",
   "metadata": {},
   "outputs": [],
   "source": []
  }
 ],
 "metadata": {
  "kernelspec": {
   "display_name": "Julia 1.6.1",
   "language": "julia",
   "name": "julia-1.6"
  },
  "language_info": {
   "file_extension": ".jl",
   "mimetype": "application/julia",
   "name": "julia",
   "version": "1.6.1"
  }
 },
 "nbformat": 4,
 "nbformat_minor": 5
}
