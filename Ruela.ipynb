{
 "cells": [
  {
   "cell_type": "code",
   "execution_count": 1,
   "id": "b39e091d-4785-4b68-adab-19c1f4437861",
   "metadata": {},
   "outputs": [],
   "source": [
    "#python"
   ]
  },
  {
   "cell_type": "code",
   "execution_count": 1,
   "id": "42de36aa-5335-4380-9ef6-c409b2311005",
   "metadata": {},
   "outputs": [],
   "source": [
    "import sympy as sym\n",
    "from sympy.plotting import plot"
   ]
  },
  {
   "cell_type": "code",
   "execution_count": 38,
   "id": "a5ffd604-7f25-4806-a975-8cc883216e51",
   "metadata": {},
   "outputs": [],
   "source": [
    "x,a,b = sym.symbols(\"x,a,b\")"
   ]
  },
  {
   "cell_type": "code",
   "execution_count": 39,
   "id": "4bc1917f-94fe-43e0-b96b-f41858d2bc05",
   "metadata": {},
   "outputs": [],
   "source": [
    "pa = ((x-b)/(a-b)).subs(a,-1).subs(b,1)\n",
    "pb = ((x-a)/(b-a)).subs(a,-1).subs(b,1)\n",
    "\n",
    "dpa = sym.diff(pa)\n",
    "dpb = sym.diff(pb)"
   ]
  },
  {
   "cell_type": "code",
   "execution_count": 40,
   "id": "e78f2eb4-fc86-43f5-84c7-84e8e599c2c4",
   "metadata": {},
   "outputs": [
    {
     "output_type": "display_data",
     "data": {
      "text/plain": "<Figure size 432x288 with 1 Axes>",
      "image/svg+xml": "<?xml version=\"1.0\" encoding=\"utf-8\" standalone=\"no\"?>\r\n<!DOCTYPE svg PUBLIC \"-//W3C//DTD SVG 1.1//EN\"\r\n  \"http://www.w3.org/Graphics/SVG/1.1/DTD/svg11.dtd\">\r\n<!-- Created with matplotlib (https://matplotlib.org/) -->\r\n<svg height=\"288.277344pt\" version=\"1.1\" viewBox=\"0 0 424.692969 288.277344\" width=\"424.692969pt\" xmlns=\"http://www.w3.org/2000/svg\" xmlns:xlink=\"http://www.w3.org/1999/xlink\">\r\n <metadata>\r\n  <rdf:RDF xmlns:cc=\"http://creativecommons.org/ns#\" xmlns:dc=\"http://purl.org/dc/elements/1.1/\" xmlns:rdf=\"http://www.w3.org/1999/02/22-rdf-syntax-ns#\">\r\n   <cc:Work>\r\n    <dc:type rdf:resource=\"http://purl.org/dc/dcmitype/StillImage\"/>\r\n    <dc:date>2021-06-17T11:15:21.126302</dc:date>\r\n    <dc:format>image/svg+xml</dc:format>\r\n    <dc:creator>\r\n     <cc:Agent>\r\n      <dc:title>Matplotlib v3.3.4, https://matplotlib.org/</dc:title>\r\n     </cc:Agent>\r\n    </dc:creator>\r\n   </cc:Work>\r\n  </rdf:RDF>\r\n </metadata>\r\n <defs>\r\n  <style type=\"text/css\">*{stroke-linecap:butt;stroke-linejoin:round;}</style>\r\n </defs>\r\n <g id=\"figure_1\">\r\n  <g id=\"patch_1\">\r\n   <path d=\"M -0 288.277344 \r\nL 424.692969 288.277344 \r\nL 424.692969 0 \r\nL -0 0 \r\nz\r\n\" style=\"fill:none;\"/>\r\n  </g>\r\n  <g id=\"axes_1\">\r\n   <g id=\"patch_2\">\r\n    <path d=\"M 22.522656 250.721094 \r\nL 406.360156 250.721094 \r\nL 406.360156 15.821094 \r\nL 22.522656 15.821094 \r\nz\r\n\" style=\"fill:#ffffff;\"/>\r\n   </g>\r\n   <g id=\"matplotlib.axis_1\">\r\n    <g id=\"xtick_1\">\r\n     <g id=\"line2d_1\">\r\n      <defs>\r\n       <path d=\"M 0 0 \r\nL 0 3.5 \r\n\" id=\"mb3aa72ed1d\" style=\"stroke:#000000;stroke-width:0.8;\"/>\r\n      </defs>\r\n      <g>\r\n       <use style=\"stroke:#000000;stroke-width:0.8;\" x=\"22.522656\" xlink:href=\"#mb3aa72ed1d\" y=\"250.721094\"/>\r\n      </g>\r\n     </g>\r\n     <g id=\"text_1\">\r\n      <!-- −1.00 -->\r\n      <g transform=\"translate(7.2 265.319531)scale(0.1 -0.1)\">\r\n       <defs>\r\n        <path d=\"M 10.59375 35.5 \r\nL 73.1875 35.5 \r\nL 73.1875 27.203125 \r\nL 10.59375 27.203125 \r\nz\r\n\" id=\"DejaVuSans-8722\"/>\r\n        <path d=\"M 12.40625 8.296875 \r\nL 28.515625 8.296875 \r\nL 28.515625 63.921875 \r\nL 10.984375 60.40625 \r\nL 10.984375 69.390625 \r\nL 28.421875 72.90625 \r\nL 38.28125 72.90625 \r\nL 38.28125 8.296875 \r\nL 54.390625 8.296875 \r\nL 54.390625 0 \r\nL 12.40625 0 \r\nz\r\n\" id=\"DejaVuSans-49\"/>\r\n        <path d=\"M 10.6875 12.40625 \r\nL 21 12.40625 \r\nL 21 0 \r\nL 10.6875 0 \r\nz\r\n\" id=\"DejaVuSans-46\"/>\r\n        <path d=\"M 31.78125 66.40625 \r\nQ 24.171875 66.40625 20.328125 58.90625 \r\nQ 16.5 51.421875 16.5 36.375 \r\nQ 16.5 21.390625 20.328125 13.890625 \r\nQ 24.171875 6.390625 31.78125 6.390625 \r\nQ 39.453125 6.390625 43.28125 13.890625 \r\nQ 47.125 21.390625 47.125 36.375 \r\nQ 47.125 51.421875 43.28125 58.90625 \r\nQ 39.453125 66.40625 31.78125 66.40625 \r\nz\r\nM 31.78125 74.21875 \r\nQ 44.046875 74.21875 50.515625 64.515625 \r\nQ 56.984375 54.828125 56.984375 36.375 \r\nQ 56.984375 17.96875 50.515625 8.265625 \r\nQ 44.046875 -1.421875 31.78125 -1.421875 \r\nQ 19.53125 -1.421875 13.0625 8.265625 \r\nQ 6.59375 17.96875 6.59375 36.375 \r\nQ 6.59375 54.828125 13.0625 64.515625 \r\nQ 19.53125 74.21875 31.78125 74.21875 \r\nz\r\n\" id=\"DejaVuSans-48\"/>\r\n       </defs>\r\n       <use xlink:href=\"#DejaVuSans-8722\"/>\r\n       <use x=\"83.789062\" xlink:href=\"#DejaVuSans-49\"/>\r\n       <use x=\"147.412109\" xlink:href=\"#DejaVuSans-46\"/>\r\n       <use x=\"179.199219\" xlink:href=\"#DejaVuSans-48\"/>\r\n       <use x=\"242.822266\" xlink:href=\"#DejaVuSans-48\"/>\r\n      </g>\r\n     </g>\r\n    </g>\r\n    <g id=\"xtick_2\">\r\n     <g id=\"line2d_2\">\r\n      <g>\r\n       <use style=\"stroke:#000000;stroke-width:0.8;\" x=\"70.502344\" xlink:href=\"#mb3aa72ed1d\" y=\"250.721094\"/>\r\n      </g>\r\n     </g>\r\n     <g id=\"text_2\">\r\n      <!-- −0.75 -->\r\n      <g transform=\"translate(55.179688 265.319531)scale(0.1 -0.1)\">\r\n       <defs>\r\n        <path d=\"M 8.203125 72.90625 \r\nL 55.078125 72.90625 \r\nL 55.078125 68.703125 \r\nL 28.609375 0 \r\nL 18.3125 0 \r\nL 43.21875 64.59375 \r\nL 8.203125 64.59375 \r\nz\r\n\" id=\"DejaVuSans-55\"/>\r\n        <path d=\"M 10.796875 72.90625 \r\nL 49.515625 72.90625 \r\nL 49.515625 64.59375 \r\nL 19.828125 64.59375 \r\nL 19.828125 46.734375 \r\nQ 21.96875 47.46875 24.109375 47.828125 \r\nQ 26.265625 48.1875 28.421875 48.1875 \r\nQ 40.625 48.1875 47.75 41.5 \r\nQ 54.890625 34.8125 54.890625 23.390625 \r\nQ 54.890625 11.625 47.5625 5.09375 \r\nQ 40.234375 -1.421875 26.90625 -1.421875 \r\nQ 22.3125 -1.421875 17.546875 -0.640625 \r\nQ 12.796875 0.140625 7.71875 1.703125 \r\nL 7.71875 11.625 \r\nQ 12.109375 9.234375 16.796875 8.0625 \r\nQ 21.484375 6.890625 26.703125 6.890625 \r\nQ 35.15625 6.890625 40.078125 11.328125 \r\nQ 45.015625 15.765625 45.015625 23.390625 \r\nQ 45.015625 31 40.078125 35.4375 \r\nQ 35.15625 39.890625 26.703125 39.890625 \r\nQ 22.75 39.890625 18.8125 39.015625 \r\nQ 14.890625 38.140625 10.796875 36.28125 \r\nz\r\n\" id=\"DejaVuSans-53\"/>\r\n       </defs>\r\n       <use xlink:href=\"#DejaVuSans-8722\"/>\r\n       <use x=\"83.789062\" xlink:href=\"#DejaVuSans-48\"/>\r\n       <use x=\"147.412109\" xlink:href=\"#DejaVuSans-46\"/>\r\n       <use x=\"179.199219\" xlink:href=\"#DejaVuSans-55\"/>\r\n       <use x=\"242.822266\" xlink:href=\"#DejaVuSans-53\"/>\r\n      </g>\r\n     </g>\r\n    </g>\r\n    <g id=\"xtick_3\">\r\n     <g id=\"line2d_3\">\r\n      <g>\r\n       <use style=\"stroke:#000000;stroke-width:0.8;\" x=\"118.482031\" xlink:href=\"#mb3aa72ed1d\" y=\"250.721094\"/>\r\n      </g>\r\n     </g>\r\n     <g id=\"text_3\">\r\n      <!-- −0.50 -->\r\n      <g transform=\"translate(103.159375 265.319531)scale(0.1 -0.1)\">\r\n       <use xlink:href=\"#DejaVuSans-8722\"/>\r\n       <use x=\"83.789062\" xlink:href=\"#DejaVuSans-48\"/>\r\n       <use x=\"147.412109\" xlink:href=\"#DejaVuSans-46\"/>\r\n       <use x=\"179.199219\" xlink:href=\"#DejaVuSans-53\"/>\r\n       <use x=\"242.822266\" xlink:href=\"#DejaVuSans-48\"/>\r\n      </g>\r\n     </g>\r\n    </g>\r\n    <g id=\"xtick_4\">\r\n     <g id=\"line2d_4\">\r\n      <g>\r\n       <use style=\"stroke:#000000;stroke-width:0.8;\" x=\"166.461719\" xlink:href=\"#mb3aa72ed1d\" y=\"250.721094\"/>\r\n      </g>\r\n     </g>\r\n     <g id=\"text_4\">\r\n      <!-- −0.25 -->\r\n      <g transform=\"translate(151.139062 265.319531)scale(0.1 -0.1)\">\r\n       <defs>\r\n        <path d=\"M 19.1875 8.296875 \r\nL 53.609375 8.296875 \r\nL 53.609375 0 \r\nL 7.328125 0 \r\nL 7.328125 8.296875 \r\nQ 12.9375 14.109375 22.625 23.890625 \r\nQ 32.328125 33.6875 34.8125 36.53125 \r\nQ 39.546875 41.84375 41.421875 45.53125 \r\nQ 43.3125 49.21875 43.3125 52.78125 \r\nQ 43.3125 58.59375 39.234375 62.25 \r\nQ 35.15625 65.921875 28.609375 65.921875 \r\nQ 23.96875 65.921875 18.8125 64.3125 \r\nQ 13.671875 62.703125 7.8125 59.421875 \r\nL 7.8125 69.390625 \r\nQ 13.765625 71.78125 18.9375 73 \r\nQ 24.125 74.21875 28.421875 74.21875 \r\nQ 39.75 74.21875 46.484375 68.546875 \r\nQ 53.21875 62.890625 53.21875 53.421875 \r\nQ 53.21875 48.921875 51.53125 44.890625 \r\nQ 49.859375 40.875 45.40625 35.40625 \r\nQ 44.1875 33.984375 37.640625 27.21875 \r\nQ 31.109375 20.453125 19.1875 8.296875 \r\nz\r\n\" id=\"DejaVuSans-50\"/>\r\n       </defs>\r\n       <use xlink:href=\"#DejaVuSans-8722\"/>\r\n       <use x=\"83.789062\" xlink:href=\"#DejaVuSans-48\"/>\r\n       <use x=\"147.412109\" xlink:href=\"#DejaVuSans-46\"/>\r\n       <use x=\"179.199219\" xlink:href=\"#DejaVuSans-50\"/>\r\n       <use x=\"242.822266\" xlink:href=\"#DejaVuSans-53\"/>\r\n      </g>\r\n     </g>\r\n    </g>\r\n    <g id=\"xtick_5\">\r\n     <g id=\"line2d_5\">\r\n      <g>\r\n       <use style=\"stroke:#000000;stroke-width:0.8;\" x=\"214.441406\" xlink:href=\"#mb3aa72ed1d\" y=\"250.721094\"/>\r\n      </g>\r\n     </g>\r\n     <g id=\"text_5\">\r\n      <!-- 0.00 -->\r\n      <g transform=\"translate(203.308594 265.319531)scale(0.1 -0.1)\">\r\n       <use xlink:href=\"#DejaVuSans-48\"/>\r\n       <use x=\"63.623047\" xlink:href=\"#DejaVuSans-46\"/>\r\n       <use x=\"95.410156\" xlink:href=\"#DejaVuSans-48\"/>\r\n       <use x=\"159.033203\" xlink:href=\"#DejaVuSans-48\"/>\r\n      </g>\r\n     </g>\r\n    </g>\r\n    <g id=\"xtick_6\">\r\n     <g id=\"line2d_6\">\r\n      <g>\r\n       <use style=\"stroke:#000000;stroke-width:0.8;\" x=\"262.421094\" xlink:href=\"#mb3aa72ed1d\" y=\"250.721094\"/>\r\n      </g>\r\n     </g>\r\n     <g id=\"text_6\">\r\n      <!-- 0.25 -->\r\n      <g transform=\"translate(251.288281 265.319531)scale(0.1 -0.1)\">\r\n       <use xlink:href=\"#DejaVuSans-48\"/>\r\n       <use x=\"63.623047\" xlink:href=\"#DejaVuSans-46\"/>\r\n       <use x=\"95.410156\" xlink:href=\"#DejaVuSans-50\"/>\r\n       <use x=\"159.033203\" xlink:href=\"#DejaVuSans-53\"/>\r\n      </g>\r\n     </g>\r\n    </g>\r\n    <g id=\"xtick_7\">\r\n     <g id=\"line2d_7\">\r\n      <g>\r\n       <use style=\"stroke:#000000;stroke-width:0.8;\" x=\"310.400781\" xlink:href=\"#mb3aa72ed1d\" y=\"250.721094\"/>\r\n      </g>\r\n     </g>\r\n     <g id=\"text_7\">\r\n      <!-- 0.50 -->\r\n      <g transform=\"translate(299.267969 265.319531)scale(0.1 -0.1)\">\r\n       <use xlink:href=\"#DejaVuSans-48\"/>\r\n       <use x=\"63.623047\" xlink:href=\"#DejaVuSans-46\"/>\r\n       <use x=\"95.410156\" xlink:href=\"#DejaVuSans-53\"/>\r\n       <use x=\"159.033203\" xlink:href=\"#DejaVuSans-48\"/>\r\n      </g>\r\n     </g>\r\n    </g>\r\n    <g id=\"xtick_8\">\r\n     <g id=\"line2d_8\">\r\n      <g>\r\n       <use style=\"stroke:#000000;stroke-width:0.8;\" x=\"358.380469\" xlink:href=\"#mb3aa72ed1d\" y=\"250.721094\"/>\r\n      </g>\r\n     </g>\r\n     <g id=\"text_8\">\r\n      <!-- 0.75 -->\r\n      <g transform=\"translate(347.247656 265.319531)scale(0.1 -0.1)\">\r\n       <use xlink:href=\"#DejaVuSans-48\"/>\r\n       <use x=\"63.623047\" xlink:href=\"#DejaVuSans-46\"/>\r\n       <use x=\"95.410156\" xlink:href=\"#DejaVuSans-55\"/>\r\n       <use x=\"159.033203\" xlink:href=\"#DejaVuSans-53\"/>\r\n      </g>\r\n     </g>\r\n    </g>\r\n    <g id=\"xtick_9\">\r\n     <g id=\"line2d_9\">\r\n      <g>\r\n       <use style=\"stroke:#000000;stroke-width:0.8;\" x=\"406.360156\" xlink:href=\"#mb3aa72ed1d\" y=\"250.721094\"/>\r\n      </g>\r\n     </g>\r\n     <g id=\"text_9\">\r\n      <!-- 1.00 -->\r\n      <g transform=\"translate(395.227344 265.319531)scale(0.1 -0.1)\">\r\n       <use xlink:href=\"#DejaVuSans-49\"/>\r\n       <use x=\"63.623047\" xlink:href=\"#DejaVuSans-46\"/>\r\n       <use x=\"95.410156\" xlink:href=\"#DejaVuSans-48\"/>\r\n       <use x=\"159.033203\" xlink:href=\"#DejaVuSans-48\"/>\r\n      </g>\r\n     </g>\r\n    </g>\r\n    <g id=\"text_10\">\r\n     <!-- x -->\r\n     <g transform=\"translate(403.400781 278.997656)scale(0.1 -0.1)\">\r\n      <defs>\r\n       <path d=\"M 54.890625 54.6875 \r\nL 35.109375 28.078125 \r\nL 55.90625 0 \r\nL 45.3125 0 \r\nL 29.390625 21.484375 \r\nL 13.484375 0 \r\nL 2.875 0 \r\nL 24.125 28.609375 \r\nL 4.6875 54.6875 \r\nL 15.28125 54.6875 \r\nL 29.78125 35.203125 \r\nL 44.28125 54.6875 \r\nz\r\n\" id=\"DejaVuSans-120\"/>\r\n      </defs>\r\n      <use xlink:href=\"#DejaVuSans-120\"/>\r\n     </g>\r\n    </g>\r\n   </g>\r\n   <g id=\"matplotlib.axis_2\">\r\n    <g id=\"ytick_1\">\r\n     <g id=\"line2d_10\">\r\n      <defs>\r\n       <path d=\"M 0 0 \r\nL -3.5 0 \r\n\" id=\"m33672e3f24\" style=\"stroke:#000000;stroke-width:0.8;\"/>\r\n      </defs>\r\n      <g>\r\n       <use style=\"stroke:#000000;stroke-width:0.8;\" x=\"214.441406\" xlink:href=\"#m33672e3f24\" y=\"250.721094\"/>\r\n      </g>\r\n     </g>\r\n     <g id=\"text_11\">\r\n      <!-- 0.0 -->\r\n      <g transform=\"translate(191.538281 254.520312)scale(0.1 -0.1)\">\r\n       <use xlink:href=\"#DejaVuSans-48\"/>\r\n       <use x=\"63.623047\" xlink:href=\"#DejaVuSans-46\"/>\r\n       <use x=\"95.410156\" xlink:href=\"#DejaVuSans-48\"/>\r\n      </g>\r\n     </g>\r\n    </g>\r\n    <g id=\"ytick_2\">\r\n     <g id=\"line2d_11\">\r\n      <g>\r\n       <use style=\"stroke:#000000;stroke-width:0.8;\" x=\"214.441406\" xlink:href=\"#m33672e3f24\" y=\"208.012003\"/>\r\n      </g>\r\n     </g>\r\n     <g id=\"text_12\">\r\n      <!-- 0.2 -->\r\n      <g transform=\"translate(191.538281 211.811222)scale(0.1 -0.1)\">\r\n       <use xlink:href=\"#DejaVuSans-48\"/>\r\n       <use x=\"63.623047\" xlink:href=\"#DejaVuSans-46\"/>\r\n       <use x=\"95.410156\" xlink:href=\"#DejaVuSans-50\"/>\r\n      </g>\r\n     </g>\r\n    </g>\r\n    <g id=\"ytick_3\">\r\n     <g id=\"line2d_12\">\r\n      <g>\r\n       <use style=\"stroke:#000000;stroke-width:0.8;\" x=\"214.441406\" xlink:href=\"#m33672e3f24\" y=\"165.302912\"/>\r\n      </g>\r\n     </g>\r\n     <g id=\"text_13\">\r\n      <!-- 0.4 -->\r\n      <g transform=\"translate(191.538281 169.102131)scale(0.1 -0.1)\">\r\n       <defs>\r\n        <path d=\"M 37.796875 64.3125 \r\nL 12.890625 25.390625 \r\nL 37.796875 25.390625 \r\nz\r\nM 35.203125 72.90625 \r\nL 47.609375 72.90625 \r\nL 47.609375 25.390625 \r\nL 58.015625 25.390625 \r\nL 58.015625 17.1875 \r\nL 47.609375 17.1875 \r\nL 47.609375 0 \r\nL 37.796875 0 \r\nL 37.796875 17.1875 \r\nL 4.890625 17.1875 \r\nL 4.890625 26.703125 \r\nz\r\n\" id=\"DejaVuSans-52\"/>\r\n       </defs>\r\n       <use xlink:href=\"#DejaVuSans-48\"/>\r\n       <use x=\"63.623047\" xlink:href=\"#DejaVuSans-46\"/>\r\n       <use x=\"95.410156\" xlink:href=\"#DejaVuSans-52\"/>\r\n      </g>\r\n     </g>\r\n    </g>\r\n    <g id=\"ytick_4\">\r\n     <g id=\"line2d_13\">\r\n      <g>\r\n       <use style=\"stroke:#000000;stroke-width:0.8;\" x=\"214.441406\" xlink:href=\"#m33672e3f24\" y=\"122.593821\"/>\r\n      </g>\r\n     </g>\r\n     <g id=\"text_14\">\r\n      <!-- 0.6 -->\r\n      <g transform=\"translate(191.538281 126.39304)scale(0.1 -0.1)\">\r\n       <defs>\r\n        <path d=\"M 33.015625 40.375 \r\nQ 26.375 40.375 22.484375 35.828125 \r\nQ 18.609375 31.296875 18.609375 23.390625 \r\nQ 18.609375 15.53125 22.484375 10.953125 \r\nQ 26.375 6.390625 33.015625 6.390625 \r\nQ 39.65625 6.390625 43.53125 10.953125 \r\nQ 47.40625 15.53125 47.40625 23.390625 \r\nQ 47.40625 31.296875 43.53125 35.828125 \r\nQ 39.65625 40.375 33.015625 40.375 \r\nz\r\nM 52.59375 71.296875 \r\nL 52.59375 62.3125 \r\nQ 48.875 64.0625 45.09375 64.984375 \r\nQ 41.3125 65.921875 37.59375 65.921875 \r\nQ 27.828125 65.921875 22.671875 59.328125 \r\nQ 17.53125 52.734375 16.796875 39.40625 \r\nQ 19.671875 43.65625 24.015625 45.921875 \r\nQ 28.375 48.1875 33.59375 48.1875 \r\nQ 44.578125 48.1875 50.953125 41.515625 \r\nQ 57.328125 34.859375 57.328125 23.390625 \r\nQ 57.328125 12.15625 50.6875 5.359375 \r\nQ 44.046875 -1.421875 33.015625 -1.421875 \r\nQ 20.359375 -1.421875 13.671875 8.265625 \r\nQ 6.984375 17.96875 6.984375 36.375 \r\nQ 6.984375 53.65625 15.1875 63.9375 \r\nQ 23.390625 74.21875 37.203125 74.21875 \r\nQ 40.921875 74.21875 44.703125 73.484375 \r\nQ 48.484375 72.75 52.59375 71.296875 \r\nz\r\n\" id=\"DejaVuSans-54\"/>\r\n       </defs>\r\n       <use xlink:href=\"#DejaVuSans-48\"/>\r\n       <use x=\"63.623047\" xlink:href=\"#DejaVuSans-46\"/>\r\n       <use x=\"95.410156\" xlink:href=\"#DejaVuSans-54\"/>\r\n      </g>\r\n     </g>\r\n    </g>\r\n    <g id=\"ytick_5\">\r\n     <g id=\"line2d_14\">\r\n      <g>\r\n       <use style=\"stroke:#000000;stroke-width:0.8;\" x=\"214.441406\" xlink:href=\"#m33672e3f24\" y=\"79.88473\"/>\r\n      </g>\r\n     </g>\r\n     <g id=\"text_15\">\r\n      <!-- 0.8 -->\r\n      <g transform=\"translate(191.538281 83.683949)scale(0.1 -0.1)\">\r\n       <defs>\r\n        <path d=\"M 31.78125 34.625 \r\nQ 24.75 34.625 20.71875 30.859375 \r\nQ 16.703125 27.09375 16.703125 20.515625 \r\nQ 16.703125 13.921875 20.71875 10.15625 \r\nQ 24.75 6.390625 31.78125 6.390625 \r\nQ 38.8125 6.390625 42.859375 10.171875 \r\nQ 46.921875 13.96875 46.921875 20.515625 \r\nQ 46.921875 27.09375 42.890625 30.859375 \r\nQ 38.875 34.625 31.78125 34.625 \r\nz\r\nM 21.921875 38.8125 \r\nQ 15.578125 40.375 12.03125 44.71875 \r\nQ 8.5 49.078125 8.5 55.328125 \r\nQ 8.5 64.0625 14.71875 69.140625 \r\nQ 20.953125 74.21875 31.78125 74.21875 \r\nQ 42.671875 74.21875 48.875 69.140625 \r\nQ 55.078125 64.0625 55.078125 55.328125 \r\nQ 55.078125 49.078125 51.53125 44.71875 \r\nQ 48 40.375 41.703125 38.8125 \r\nQ 48.828125 37.15625 52.796875 32.3125 \r\nQ 56.78125 27.484375 56.78125 20.515625 \r\nQ 56.78125 9.90625 50.3125 4.234375 \r\nQ 43.84375 -1.421875 31.78125 -1.421875 \r\nQ 19.734375 -1.421875 13.25 4.234375 \r\nQ 6.78125 9.90625 6.78125 20.515625 \r\nQ 6.78125 27.484375 10.78125 32.3125 \r\nQ 14.796875 37.15625 21.921875 38.8125 \r\nz\r\nM 18.3125 54.390625 \r\nQ 18.3125 48.734375 21.84375 45.5625 \r\nQ 25.390625 42.390625 31.78125 42.390625 \r\nQ 38.140625 42.390625 41.71875 45.5625 \r\nQ 45.3125 48.734375 45.3125 54.390625 \r\nQ 45.3125 60.0625 41.71875 63.234375 \r\nQ 38.140625 66.40625 31.78125 66.40625 \r\nQ 25.390625 66.40625 21.84375 63.234375 \r\nQ 18.3125 60.0625 18.3125 54.390625 \r\nz\r\n\" id=\"DejaVuSans-56\"/>\r\n       </defs>\r\n       <use xlink:href=\"#DejaVuSans-48\"/>\r\n       <use x=\"63.623047\" xlink:href=\"#DejaVuSans-46\"/>\r\n       <use x=\"95.410156\" xlink:href=\"#DejaVuSans-56\"/>\r\n      </g>\r\n     </g>\r\n    </g>\r\n    <g id=\"ytick_6\">\r\n     <g id=\"line2d_15\">\r\n      <g>\r\n       <use style=\"stroke:#000000;stroke-width:0.8;\" x=\"214.441406\" xlink:href=\"#m33672e3f24\" y=\"37.175639\"/>\r\n      </g>\r\n     </g>\r\n     <g id=\"text_16\">\r\n      <!-- 1.0 -->\r\n      <g transform=\"translate(191.538281 40.974858)scale(0.1 -0.1)\">\r\n       <use xlink:href=\"#DejaVuSans-49\"/>\r\n       <use x=\"63.623047\" xlink:href=\"#DejaVuSans-46\"/>\r\n       <use x=\"95.410156\" xlink:href=\"#DejaVuSans-48\"/>\r\n      </g>\r\n     </g>\r\n    </g>\r\n    <g id=\"text_17\">\r\n     <!-- f(x) -->\r\n     <g transform=\"translate(185.458594 24.442187)rotate(-90)scale(0.1 -0.1)\">\r\n      <defs>\r\n       <path d=\"M 37.109375 75.984375 \r\nL 37.109375 68.5 \r\nL 28.515625 68.5 \r\nQ 23.6875 68.5 21.796875 66.546875 \r\nQ 19.921875 64.59375 19.921875 59.515625 \r\nL 19.921875 54.6875 \r\nL 34.71875 54.6875 \r\nL 34.71875 47.703125 \r\nL 19.921875 47.703125 \r\nL 19.921875 0 \r\nL 10.890625 0 \r\nL 10.890625 47.703125 \r\nL 2.296875 47.703125 \r\nL 2.296875 54.6875 \r\nL 10.890625 54.6875 \r\nL 10.890625 58.5 \r\nQ 10.890625 67.625 15.140625 71.796875 \r\nQ 19.390625 75.984375 28.609375 75.984375 \r\nz\r\n\" id=\"DejaVuSans-102\"/>\r\n       <path d=\"M 31 75.875 \r\nQ 24.46875 64.65625 21.28125 53.65625 \r\nQ 18.109375 42.671875 18.109375 31.390625 \r\nQ 18.109375 20.125 21.3125 9.0625 \r\nQ 24.515625 -2 31 -13.1875 \r\nL 23.1875 -13.1875 \r\nQ 15.875 -1.703125 12.234375 9.375 \r\nQ 8.59375 20.453125 8.59375 31.390625 \r\nQ 8.59375 42.28125 12.203125 53.3125 \r\nQ 15.828125 64.359375 23.1875 75.875 \r\nz\r\n\" id=\"DejaVuSans-40\"/>\r\n       <path d=\"M 8.015625 75.875 \r\nL 15.828125 75.875 \r\nQ 23.140625 64.359375 26.78125 53.3125 \r\nQ 30.421875 42.28125 30.421875 31.390625 \r\nQ 30.421875 20.453125 26.78125 9.375 \r\nQ 23.140625 -1.703125 15.828125 -13.1875 \r\nL 8.015625 -13.1875 \r\nQ 14.5 -2 17.703125 9.0625 \r\nQ 20.90625 20.125 20.90625 31.390625 \r\nQ 20.90625 42.671875 17.703125 53.65625 \r\nQ 14.5 64.65625 8.015625 75.875 \r\nz\r\n\" id=\"DejaVuSans-41\"/>\r\n      </defs>\r\n      <use xlink:href=\"#DejaVuSans-102\"/>\r\n      <use x=\"35.205078\" xlink:href=\"#DejaVuSans-40\"/>\r\n      <use x=\"74.21875\" xlink:href=\"#DejaVuSans-120\"/>\r\n      <use x=\"133.398438\" xlink:href=\"#DejaVuSans-41\"/>\r\n     </g>\r\n    </g>\r\n   </g>\r\n   <g id=\"LineCollection_1\">\r\n    <path clip-path=\"url(#pcc9867e662)\" style=\"fill:none;stroke:#1f77b4;stroke-width:1.5;\"/>\r\n    <path clip-path=\"url(#pcc9867e662)\" style=\"fill:none;stroke:#1f77b4;stroke-width:1.5;\"/>\r\n    <path clip-path=\"url(#pcc9867e662)\" style=\"fill:none;stroke:#1f77b4;stroke-width:1.5;\"/>\r\n    <path clip-path=\"url(#pcc9867e662)\" style=\"fill:none;stroke:#1f77b4;stroke-width:1.5;\"/>\r\n    <path clip-path=\"url(#pcc9867e662)\" style=\"fill:none;stroke:#1f77b4;stroke-width:1.5;\"/>\r\n    <path clip-path=\"url(#pcc9867e662)\" style=\"fill:none;stroke:#1f77b4;stroke-width:1.5;\"/>\r\n    <path clip-path=\"url(#pcc9867e662)\" style=\"fill:none;stroke:#1f77b4;stroke-width:1.5;\"/>\r\n    <path clip-path=\"url(#pcc9867e662)\" style=\"fill:none;stroke:#1f77b4;stroke-width:1.5;\"/>\r\n    <path clip-path=\"url(#pcc9867e662)\" style=\"fill:none;stroke:#1f77b4;stroke-width:1.5;\"/>\r\n    <path clip-path=\"url(#pcc9867e662)\" style=\"fill:none;stroke:#1f77b4;stroke-width:1.5;\"/>\r\n    <path clip-path=\"url(#pcc9867e662)\" style=\"fill:none;stroke:#1f77b4;stroke-width:1.5;\"/>\r\n    <path clip-path=\"url(#pcc9867e662)\" style=\"fill:none;stroke:#1f77b4;stroke-width:1.5;\"/>\r\n    <path clip-path=\"url(#pcc9867e662)\" style=\"fill:none;stroke:#1f77b4;stroke-width:1.5;\"/>\r\n    <path clip-path=\"url(#pcc9867e662)\" style=\"fill:none;stroke:#1f77b4;stroke-width:1.5;\"/>\r\n    <path clip-path=\"url(#pcc9867e662)\" style=\"fill:none;stroke:#1f77b4;stroke-width:1.5;\"/>\r\n    <path clip-path=\"url(#pcc9867e662)\" style=\"fill:none;stroke:#1f77b4;stroke-width:1.5;\"/>\r\n    <path clip-path=\"url(#pcc9867e662)\" style=\"fill:none;stroke:#1f77b4;stroke-width:1.5;\"/>\r\n    <path clip-path=\"url(#pcc9867e662)\" style=\"fill:none;stroke:#1f77b4;stroke-width:1.5;\"/>\r\n    <path clip-path=\"url(#pcc9867e662)\" style=\"fill:none;stroke:#1f77b4;stroke-width:1.5;\"/>\r\n    <path clip-path=\"url(#pcc9867e662)\" style=\"fill:none;stroke:#1f77b4;stroke-width:1.5;\"/>\r\n    <path clip-path=\"url(#pcc9867e662)\" style=\"fill:none;stroke:#1f77b4;stroke-width:1.5;\"/>\r\n    <path clip-path=\"url(#pcc9867e662)\" style=\"fill:none;stroke:#1f77b4;stroke-width:1.5;\"/>\r\n    <path clip-path=\"url(#pcc9867e662)\" style=\"fill:none;stroke:#1f77b4;stroke-width:1.5;\"/>\r\n    <path clip-path=\"url(#pcc9867e662)\" style=\"fill:none;stroke:#1f77b4;stroke-width:1.5;\"/>\r\n    <path clip-path=\"url(#pcc9867e662)\" style=\"fill:none;stroke:#1f77b4;stroke-width:1.5;\"/>\r\n    <path clip-path=\"url(#pcc9867e662)\" style=\"fill:none;stroke:#1f77b4;stroke-width:1.5;\"/>\r\n    <path clip-path=\"url(#pcc9867e662)\" style=\"fill:none;stroke:#1f77b4;stroke-width:1.5;\"/>\r\n    <path clip-path=\"url(#pcc9867e662)\" style=\"fill:none;stroke:#1f77b4;stroke-width:1.5;\"/>\r\n    <path clip-path=\"url(#pcc9867e662)\" style=\"fill:none;stroke:#1f77b4;stroke-width:1.5;\"/>\r\n    <path clip-path=\"url(#pcc9867e662)\" d=\"M -1 24.088965 \r\nL 22.127642 36.955876 \r\n\" style=\"fill:none;stroke:#1f77b4;stroke-width:1.5;\"/>\r\n    <path clip-path=\"url(#pcc9867e662)\" d=\"M 22.127642 36.955876 \r\nL 73.674955 65.633882 \r\n\" style=\"fill:none;stroke:#1f77b4;stroke-width:1.5;\"/>\r\n    <path clip-path=\"url(#pcc9867e662)\" d=\"M 73.674955 65.633882 \r\nL 124.752337 94.050446 \r\n\" style=\"fill:none;stroke:#1f77b4;stroke-width:1.5;\"/>\r\n    <path clip-path=\"url(#pcc9867e662)\" d=\"M 124.752337 94.050446 \r\nL 182.092195 125.951097 \r\n\" style=\"fill:none;stroke:#1f77b4;stroke-width:1.5;\"/>\r\n    <path clip-path=\"url(#pcc9867e662)\" d=\"M 182.092195 125.951097 \r\nL 229.53743 152.346939 \r\n\" style=\"fill:none;stroke:#1f77b4;stroke-width:1.5;\"/>\r\n    <path clip-path=\"url(#pcc9867e662)\" d=\"M 229.53743 152.346939 \r\nL 288.856032 185.348451 \r\n\" style=\"fill:none;stroke:#1f77b4;stroke-width:1.5;\"/>\r\n    <path clip-path=\"url(#pcc9867e662)\" d=\"M 288.856032 185.348451 \r\nL 342.372623 215.122053 \r\n\" style=\"fill:none;stroke:#1f77b4;stroke-width:1.5;\"/>\r\n    <path clip-path=\"url(#pcc9867e662)\" d=\"M 342.372623 215.122053 \r\nL 402.57293 248.614095 \r\n\" style=\"fill:none;stroke:#1f77b4;stroke-width:1.5;\"/>\r\n    <path clip-path=\"url(#pcc9867e662)\" d=\"M 402.57293 248.614095 \r\nL 425.692969 261.476776 \r\n\" style=\"fill:none;stroke:#1f77b4;stroke-width:1.5;\"/>\r\n    <path clip-path=\"url(#pcc9867e662)\" style=\"fill:none;stroke:#1f77b4;stroke-width:1.5;\"/>\r\n    <path clip-path=\"url(#pcc9867e662)\" style=\"fill:none;stroke:#1f77b4;stroke-width:1.5;\"/>\r\n    <path clip-path=\"url(#pcc9867e662)\" style=\"fill:none;stroke:#1f77b4;stroke-width:1.5;\"/>\r\n    <path clip-path=\"url(#pcc9867e662)\" style=\"fill:none;stroke:#1f77b4;stroke-width:1.5;\"/>\r\n    <path clip-path=\"url(#pcc9867e662)\" style=\"fill:none;stroke:#1f77b4;stroke-width:1.5;\"/>\r\n    <path clip-path=\"url(#pcc9867e662)\" style=\"fill:none;stroke:#1f77b4;stroke-width:1.5;\"/>\r\n    <path clip-path=\"url(#pcc9867e662)\" style=\"fill:none;stroke:#1f77b4;stroke-width:1.5;\"/>\r\n    <path clip-path=\"url(#pcc9867e662)\" style=\"fill:none;stroke:#1f77b4;stroke-width:1.5;\"/>\r\n    <path clip-path=\"url(#pcc9867e662)\" style=\"fill:none;stroke:#1f77b4;stroke-width:1.5;\"/>\r\n    <path clip-path=\"url(#pcc9867e662)\" style=\"fill:none;stroke:#1f77b4;stroke-width:1.5;\"/>\r\n    <path clip-path=\"url(#pcc9867e662)\" style=\"fill:none;stroke:#1f77b4;stroke-width:1.5;\"/>\r\n    <path clip-path=\"url(#pcc9867e662)\" style=\"fill:none;stroke:#1f77b4;stroke-width:1.5;\"/>\r\n    <path clip-path=\"url(#pcc9867e662)\" style=\"fill:none;stroke:#1f77b4;stroke-width:1.5;\"/>\r\n    <path clip-path=\"url(#pcc9867e662)\" style=\"fill:none;stroke:#1f77b4;stroke-width:1.5;\"/>\r\n    <path clip-path=\"url(#pcc9867e662)\" style=\"fill:none;stroke:#1f77b4;stroke-width:1.5;\"/>\r\n    <path clip-path=\"url(#pcc9867e662)\" style=\"fill:none;stroke:#1f77b4;stroke-width:1.5;\"/>\r\n    <path clip-path=\"url(#pcc9867e662)\" style=\"fill:none;stroke:#1f77b4;stroke-width:1.5;\"/>\r\n    <path clip-path=\"url(#pcc9867e662)\" style=\"fill:none;stroke:#1f77b4;stroke-width:1.5;\"/>\r\n    <path clip-path=\"url(#pcc9867e662)\" style=\"fill:none;stroke:#1f77b4;stroke-width:1.5;\"/>\r\n    <path clip-path=\"url(#pcc9867e662)\" style=\"fill:none;stroke:#1f77b4;stroke-width:1.5;\"/>\r\n    <path clip-path=\"url(#pcc9867e662)\" style=\"fill:none;stroke:#1f77b4;stroke-width:1.5;\"/>\r\n    <path clip-path=\"url(#pcc9867e662)\" style=\"fill:none;stroke:#1f77b4;stroke-width:1.5;\"/>\r\n    <path clip-path=\"url(#pcc9867e662)\" style=\"fill:none;stroke:#1f77b4;stroke-width:1.5;\"/>\r\n    <path clip-path=\"url(#pcc9867e662)\" style=\"fill:none;stroke:#1f77b4;stroke-width:1.5;\"/>\r\n    <path clip-path=\"url(#pcc9867e662)\" style=\"fill:none;stroke:#1f77b4;stroke-width:1.5;\"/>\r\n    <path clip-path=\"url(#pcc9867e662)\" style=\"fill:none;stroke:#1f77b4;stroke-width:1.5;\"/>\r\n   </g>\r\n   <g id=\"LineCollection_2\">\r\n    <path clip-path=\"url(#pcc9867e662)\" style=\"fill:none;stroke:#ff0000;stroke-width:1.5;\"/>\r\n    <path clip-path=\"url(#pcc9867e662)\" style=\"fill:none;stroke:#ff0000;stroke-width:1.5;\"/>\r\n    <path clip-path=\"url(#pcc9867e662)\" style=\"fill:none;stroke:#ff0000;stroke-width:1.5;\"/>\r\n    <path clip-path=\"url(#pcc9867e662)\" style=\"fill:none;stroke:#ff0000;stroke-width:1.5;\"/>\r\n    <path clip-path=\"url(#pcc9867e662)\" style=\"fill:none;stroke:#ff0000;stroke-width:1.5;\"/>\r\n    <path clip-path=\"url(#pcc9867e662)\" style=\"fill:none;stroke:#ff0000;stroke-width:1.5;\"/>\r\n    <path clip-path=\"url(#pcc9867e662)\" style=\"fill:none;stroke:#ff0000;stroke-width:1.5;\"/>\r\n    <path clip-path=\"url(#pcc9867e662)\" style=\"fill:none;stroke:#ff0000;stroke-width:1.5;\"/>\r\n    <path clip-path=\"url(#pcc9867e662)\" style=\"fill:none;stroke:#ff0000;stroke-width:1.5;\"/>\r\n    <path clip-path=\"url(#pcc9867e662)\" style=\"fill:none;stroke:#ff0000;stroke-width:1.5;\"/>\r\n    <path clip-path=\"url(#pcc9867e662)\" style=\"fill:none;stroke:#ff0000;stroke-width:1.5;\"/>\r\n    <path clip-path=\"url(#pcc9867e662)\" style=\"fill:none;stroke:#ff0000;stroke-width:1.5;\"/>\r\n    <path clip-path=\"url(#pcc9867e662)\" style=\"fill:none;stroke:#ff0000;stroke-width:1.5;\"/>\r\n    <path clip-path=\"url(#pcc9867e662)\" style=\"fill:none;stroke:#ff0000;stroke-width:1.5;\"/>\r\n    <path clip-path=\"url(#pcc9867e662)\" style=\"fill:none;stroke:#ff0000;stroke-width:1.5;\"/>\r\n    <path clip-path=\"url(#pcc9867e662)\" style=\"fill:none;stroke:#ff0000;stroke-width:1.5;\"/>\r\n    <path clip-path=\"url(#pcc9867e662)\" style=\"fill:none;stroke:#ff0000;stroke-width:1.5;\"/>\r\n    <path clip-path=\"url(#pcc9867e662)\" style=\"fill:none;stroke:#ff0000;stroke-width:1.5;\"/>\r\n    <path clip-path=\"url(#pcc9867e662)\" style=\"fill:none;stroke:#ff0000;stroke-width:1.5;\"/>\r\n    <path clip-path=\"url(#pcc9867e662)\" style=\"fill:none;stroke:#ff0000;stroke-width:1.5;\"/>\r\n    <path clip-path=\"url(#pcc9867e662)\" style=\"fill:none;stroke:#ff0000;stroke-width:1.5;\"/>\r\n    <path clip-path=\"url(#pcc9867e662)\" style=\"fill:none;stroke:#ff0000;stroke-width:1.5;\"/>\r\n    <path clip-path=\"url(#pcc9867e662)\" style=\"fill:none;stroke:#ff0000;stroke-width:1.5;\"/>\r\n    <path clip-path=\"url(#pcc9867e662)\" style=\"fill:none;stroke:#ff0000;stroke-width:1.5;\"/>\r\n    <path clip-path=\"url(#pcc9867e662)\" style=\"fill:none;stroke:#ff0000;stroke-width:1.5;\"/>\r\n    <path clip-path=\"url(#pcc9867e662)\" style=\"fill:none;stroke:#ff0000;stroke-width:1.5;\"/>\r\n    <path clip-path=\"url(#pcc9867e662)\" style=\"fill:none;stroke:#ff0000;stroke-width:1.5;\"/>\r\n    <path clip-path=\"url(#pcc9867e662)\" style=\"fill:none;stroke:#ff0000;stroke-width:1.5;\"/>\r\n    <path clip-path=\"url(#pcc9867e662)\" d=\"M -1 263.807768 \r\nL 45.404094 237.991157 \r\n\" style=\"fill:none;stroke:#ff0000;stroke-width:1.5;\"/>\r\n    <path clip-path=\"url(#pcc9867e662)\" d=\"M 45.404094 237.991157 \r\nL 101.136548 206.984775 \r\n\" style=\"fill:none;stroke:#ff0000;stroke-width:1.5;\"/>\r\n    <path clip-path=\"url(#pcc9867e662)\" d=\"M 101.136548 206.984775 \r\nL 153.696257 177.743529 \r\n\" style=\"fill:none;stroke:#ff0000;stroke-width:1.5;\"/>\r\n    <path clip-path=\"url(#pcc9867e662)\" d=\"M 153.696257 177.743529 \r\nL 201.724427 151.023374 \r\n\" style=\"fill:none;stroke:#ff0000;stroke-width:1.5;\"/>\r\n    <path clip-path=\"url(#pcc9867e662)\" d=\"M 201.724427 151.023374 \r\nL 258.537291 119.415912 \r\n\" style=\"fill:none;stroke:#ff0000;stroke-width:1.5;\"/>\r\n    <path clip-path=\"url(#pcc9867e662)\" d=\"M 258.537291 119.415912 \r\nL 308.689627 91.513992 \r\n\" style=\"fill:none;stroke:#ff0000;stroke-width:1.5;\"/>\r\n    <path clip-path=\"url(#pcc9867e662)\" d=\"M 308.689627 91.513992 \r\nL 365.64963 59.824671 \r\n\" style=\"fill:none;stroke:#ff0000;stroke-width:1.5;\"/>\r\n    <path clip-path=\"url(#pcc9867e662)\" d=\"M 365.64963 59.824671 \r\nL 425.692969 26.419957 \r\n\" style=\"fill:none;stroke:#ff0000;stroke-width:1.5;\"/>\r\n    <path clip-path=\"url(#pcc9867e662)\" style=\"fill:none;stroke:#ff0000;stroke-width:1.5;\"/>\r\n    <path clip-path=\"url(#pcc9867e662)\" style=\"fill:none;stroke:#ff0000;stroke-width:1.5;\"/>\r\n    <path clip-path=\"url(#pcc9867e662)\" style=\"fill:none;stroke:#ff0000;stroke-width:1.5;\"/>\r\n    <path clip-path=\"url(#pcc9867e662)\" style=\"fill:none;stroke:#ff0000;stroke-width:1.5;\"/>\r\n    <path clip-path=\"url(#pcc9867e662)\" style=\"fill:none;stroke:#ff0000;stroke-width:1.5;\"/>\r\n    <path clip-path=\"url(#pcc9867e662)\" style=\"fill:none;stroke:#ff0000;stroke-width:1.5;\"/>\r\n    <path clip-path=\"url(#pcc9867e662)\" style=\"fill:none;stroke:#ff0000;stroke-width:1.5;\"/>\r\n    <path clip-path=\"url(#pcc9867e662)\" style=\"fill:none;stroke:#ff0000;stroke-width:1.5;\"/>\r\n    <path clip-path=\"url(#pcc9867e662)\" style=\"fill:none;stroke:#ff0000;stroke-width:1.5;\"/>\r\n    <path clip-path=\"url(#pcc9867e662)\" style=\"fill:none;stroke:#ff0000;stroke-width:1.5;\"/>\r\n    <path clip-path=\"url(#pcc9867e662)\" style=\"fill:none;stroke:#ff0000;stroke-width:1.5;\"/>\r\n    <path clip-path=\"url(#pcc9867e662)\" style=\"fill:none;stroke:#ff0000;stroke-width:1.5;\"/>\r\n    <path clip-path=\"url(#pcc9867e662)\" style=\"fill:none;stroke:#ff0000;stroke-width:1.5;\"/>\r\n    <path clip-path=\"url(#pcc9867e662)\" style=\"fill:none;stroke:#ff0000;stroke-width:1.5;\"/>\r\n    <path clip-path=\"url(#pcc9867e662)\" style=\"fill:none;stroke:#ff0000;stroke-width:1.5;\"/>\r\n    <path clip-path=\"url(#pcc9867e662)\" style=\"fill:none;stroke:#ff0000;stroke-width:1.5;\"/>\r\n    <path clip-path=\"url(#pcc9867e662)\" style=\"fill:none;stroke:#ff0000;stroke-width:1.5;\"/>\r\n    <path clip-path=\"url(#pcc9867e662)\" style=\"fill:none;stroke:#ff0000;stroke-width:1.5;\"/>\r\n    <path clip-path=\"url(#pcc9867e662)\" style=\"fill:none;stroke:#ff0000;stroke-width:1.5;\"/>\r\n    <path clip-path=\"url(#pcc9867e662)\" style=\"fill:none;stroke:#ff0000;stroke-width:1.5;\"/>\r\n    <path clip-path=\"url(#pcc9867e662)\" style=\"fill:none;stroke:#ff0000;stroke-width:1.5;\"/>\r\n    <path clip-path=\"url(#pcc9867e662)\" style=\"fill:none;stroke:#ff0000;stroke-width:1.5;\"/>\r\n    <path clip-path=\"url(#pcc9867e662)\" style=\"fill:none;stroke:#ff0000;stroke-width:1.5;\"/>\r\n    <path clip-path=\"url(#pcc9867e662)\" style=\"fill:none;stroke:#ff0000;stroke-width:1.5;\"/>\r\n    <path clip-path=\"url(#pcc9867e662)\" style=\"fill:none;stroke:#ff0000;stroke-width:1.5;\"/>\r\n    <path clip-path=\"url(#pcc9867e662)\" style=\"fill:none;stroke:#ff0000;stroke-width:1.5;\"/>\r\n    <path clip-path=\"url(#pcc9867e662)\" style=\"fill:none;stroke:#ff0000;stroke-width:1.5;\"/>\r\n    <path clip-path=\"url(#pcc9867e662)\" style=\"fill:none;stroke:#ff0000;stroke-width:1.5;\"/>\r\n   </g>\r\n   <g id=\"patch_3\">\r\n    <path d=\"M 214.441406 250.721094 \r\nL 214.441406 15.821094 \r\n\" style=\"fill:none;stroke:#000000;stroke-linecap:square;stroke-linejoin:miter;stroke-width:0.8;\"/>\r\n   </g>\r\n   <g id=\"patch_4\">\r\n    <path d=\"M 406.360156 250.721094 \r\nL 406.360156 15.821094 \r\n\" style=\"fill:none;\"/>\r\n   </g>\r\n   <g id=\"patch_5\">\r\n    <path d=\"M 22.522656 250.721094 \r\nL 406.360156 250.721094 \r\n\" style=\"fill:none;stroke:#000000;stroke-linecap:square;stroke-linejoin:miter;stroke-width:0.8;\"/>\r\n   </g>\r\n   <g id=\"patch_6\">\r\n    <path d=\"M 22.522656 15.821094 \r\nL 406.360156 15.821094 \r\n\" style=\"fill:none;\"/>\r\n   </g>\r\n  </g>\r\n </g>\r\n <defs>\r\n  <clipPath id=\"pcc9867e662\">\r\n   <rect height=\"234.9\" width=\"383.8375\" x=\"22.522656\" y=\"15.821094\"/>\r\n  </clipPath>\r\n </defs>\r\n</svg>\r\n",
      "image/png": "[encoded data removed]"
     },
     "metadata": {
      "needs_background": "light"
     }
    }
   ],
   "source": [
    "p1 = plot(pa,xlim=(-1,1),ylim=(0,1.1),show=False)\n",
    "p1.append(plot(pb,line_color ='red',show=False)[0])\n",
    "p1.show()"
   ]
  },
  {
   "source": [
    "$$A^e_{AB} = \\int \\phi_A' \\phi_B'\\,dx$$"
   ],
   "cell_type": "markdown",
   "metadata": {}
  },
  {
   "source": [
    "a1 = sym.integrate(dpa*dpa,(x,-1,1))\n",
    "a2 = sym.integrate(dpa*dpb,(x,-1,1))\n",
    "a3 = sym.integrate(dpb*dpa,(x,-1,1))\n",
    "a4 = sym.integrate(dpb*dpb,(x,-1,1))\n",
    "Ae = sym.Matrix([[a1,a2],[a3,a4]])\n",
    "Ae"
   ],
   "cell_type": "code",
   "metadata": {},
   "execution_count": 5,
   "outputs": [
    {
     "output_type": "execute_result",
     "data": {
      "text/plain": [
       "Matrix([\n",
       "[ 1/2, -1/2],\n",
       "[-1/2,  1/2]])"
      ],
      "text/latex": "$\\displaystyle \\left[\\begin{matrix}\\frac{1}{2} & - \\frac{1}{2}\\\\- \\frac{1}{2} & \\frac{1}{2}\\end{matrix}\\right]$"
     },
     "metadata": {},
     "execution_count": 5
    }
   ]
  },
  {
   "source": [
    "$$C^e_{AB} = \\int \\phi_A \\phi_B\\,dx$$"
   ],
   "cell_type": "markdown",
   "metadata": {}
  },
  {
   "cell_type": "code",
   "execution_count": 6,
   "metadata": {},
   "outputs": [
    {
     "output_type": "execute_result",
     "data": {
      "text/plain": [
       "Matrix([\n",
       "[2/3, 1/3],\n",
       "[1/3, 2/3]])"
      ],
      "text/latex": "$\\displaystyle \\left[\\begin{matrix}\\frac{2}{3} & \\frac{1}{3}\\\\\\frac{1}{3} & \\frac{2}{3}\\end{matrix}\\right]$"
     },
     "metadata": {},
     "execution_count": 6
    }
   ],
   "source": [
    "c1 = sym.integrate(pa*pa,(x,-1,1))\n",
    "c2 = sym.integrate(pa*pb,(x,-1,1))\n",
    "c3 = sym.integrate(pb*pa,(x,-1,1))\n",
    "c4 = sym.integrate(pb*pb,(x,-1,1))\n",
    "Ce = sym.Matrix([[c1,c2],[c3,c4]])\n",
    "Ce"
   ]
  },
  {
   "source": [
    "$$K^e = \\alpha A^e + \\gamma C^e$$"
   ],
   "cell_type": "markdown",
   "metadata": {}
  },
  {
   "cell_type": "code",
   "execution_count": 9,
   "metadata": {},
   "outputs": [],
   "source": [
    "import numpy as np"
   ]
  },
  {
   "cell_type": "code",
   "execution_count": 31,
   "metadata": {},
   "outputs": [],
   "source": [
    "N = 7\n",
    "X = np.linspace(0,1,N)\n",
    "\n",
    "E = np.arange(N)\n",
    "\n",
    "LM = np.array([],dtype=int)\n",
    "for e in E:\n",
    "    LM = np.append(LM,[e,e+1])\n",
    "\n",
    "LM = LM.reshape(N,2)[:-1]"
   ]
  },
  {
   "cell_type": "code",
   "execution_count": 15,
   "metadata": {},
   "outputs": [
    {
     "output_type": "execute_result",
     "data": {
      "text/plain": [
       "array([[0., 1.],\n",
       "       [1., 2.],\n",
       "       [2., 3.],\n",
       "       [3., 4.],\n",
       "       [4., 5.],\n",
       "       [5., 6.],\n",
       "       [6., 7.]])"
      ]
     },
     "metadata": {},
     "execution_count": 15
    }
   ],
   "source": [
    "LM"
   ]
  },
  {
   "cell_type": "code",
   "execution_count": 34,
   "metadata": {},
   "outputs": [],
   "source": [
    "alfa = 1\n",
    "gamma = 1\n",
    "\n",
    "Ae = np.array([[1,-1],[-1,1]])/2\n",
    "Ce = np.array([[2,1],[1,2]])/3\n",
    "\n",
    "he = X[1]-X[0]\n",
    "\n",
    "K = np.zeros((N,N))\n",
    "for e,globalP in enumerate(LM):\n",
    "    localP = globalP-e\n",
    "\n",
    "    g_i = globalP[0]\n",
    "    g_j = globalP[1]\n",
    "\n",
    "    l_i = localP[0]\n",
    "    l_j = localP[1]\n",
    "\n",
    "    K[g_i,g_i] += 2*alfa*Ae[l_i,l_i]/he + he*gamma*Ce[l_i,l_i]/2\n",
    "    K[g_i,g_j] += 2*alfa*Ae[l_i,l_j]/he + he*gamma*Ce[l_i,l_j]/2\n",
    "    K[g_j,g_i] += 2*alfa*Ae[l_j,l_i]/he + he*gamma*Ce[l_j,l_i]/2\n",
    "    K[g_j,g_j] += 2*alfa*Ae[l_j,l_j]/he + he*gamma*Ce[l_j,l_j]/2\n",
    "\n",
    "K[0,0] += 2*alfa*Ae[1,1]/he + he*gamma*Ce[1,1]/2\n",
    "K[-1,-1] += 2*alfa*Ae[0,0]/he + he*gamma*Ce[0,0]/2\n"
   ]
  },
  {
   "cell_type": "code",
   "execution_count": 36,
   "metadata": {},
   "outputs": [
    {
     "output_type": "execute_result",
     "data": {
      "text/plain": [
       "array([[12., -6.,  0.,  0.,  0.,  0.,  0.],\n",
       "       [-6., 12., -6.,  0.,  0.,  0.,  0.],\n",
       "       [ 0., -6., 12., -6.,  0.,  0.,  0.],\n",
       "       [ 0.,  0., -6., 12., -6.,  0.,  0.],\n",
       "       [ 0.,  0.,  0., -6., 12., -6.,  0.],\n",
       "       [ 0.,  0.,  0.,  0., -6., 12., -6.],\n",
       "       [ 0.,  0.,  0.,  0.,  0., -6., 12.]])"
      ]
     },
     "metadata": {},
     "execution_count": 36
    }
   ],
   "source": [
    "np.round(K)"
   ]
  },
  {
   "source": [
    "$$F^e_A = \\int \\phi_a f\\, dx$$\n",
    "$$F^e_B = \\int \\phi_b f\\, dx$$"
   ],
   "cell_type": "markdown",
   "metadata": {}
  },
  {
   "cell_type": "code",
   "execution_count": 42,
   "metadata": {},
   "outputs": [
    {
     "output_type": "execute_result",
     "data": {
      "text/plain": [
       "array([-1, 1], dtype=object)"
      ]
     },
     "metadata": {},
     "execution_count": 42
    }
   ],
   "source": [
    "f1 = sym.integrate(dpa*1,(x,-1,1))\n",
    "f2 = sym.integrate(dpb*1,(x,-1,1))\n",
    "fe = np.array([f1,f2]);fe"
   ]
  },
  {
   "cell_type": "code",
   "execution_count": null,
   "metadata": {},
   "outputs": [],
   "source": [
    "Fe = np.array([[-1,1])\n",
    "\n",
    "he = X[1]-X[0]\n",
    "\n",
    "F = np.zeros(N)\n",
    "for e,globalP in enumerate(LM):\n",
    "    localP = globalP-e\n",
    "\n",
    "    g_i = globalP[0]\n",
    "    g_j = globalP[1]\n",
    "\n",
    "    l_i = localP[0]\n",
    "    l_j = localP[1]\n",
    "\n",
    "    F[g_i] += he*Fe[l_i]/2\n",
    "    F[g_j] += he*Fe[l_j]/2\n",
    "\n",
    "F[0] += he*Fe[1]/2\n",
    "F[-1] += he*Fe[0]/2\n"
   ]
  }
 ],
 "metadata": {
  "kernelspec": {
   "name": "python3",
   "display_name": "Python 3.8.5 64-bit ('base': conda)"
  },
  "language_info": {
   "codemirror_mode": {
    "name": "ipython",
    "version": 3
   },
   "file_extension": ".py",
   "mimetype": "text/x-python",
   "name": "python",
   "nbconvert_exporter": "python",
   "pygments_lexer": "ipython3",
   "version": "3.8.5"
  },
  "interpreter": {
   "hash": "03e4b064ea70d5750ee86d500752b5235af53896583ee216f8b753510ab9f49a"
  }
 },
 "nbformat": 4,
 "nbformat_minor": 5
}